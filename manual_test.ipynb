{
 "cells": [
  {
   "cell_type": "code",
   "execution_count": 2,
   "metadata": {},
   "outputs": [
    {
     "name": "stdout",
     "output_type": "stream",
     "text": [
      "Movie 1:\n",
      "Title: Test Movie\n",
      "Release Date: 2024-09-25\n",
      "Rating: 8.1\n",
      "Overview: This is a test movie\n",
      "\n",
      "Movie 2:\n",
      "Title: Another Test Movie\n",
      "Release Date: 2024-09-26\n",
      "Rating: 7.4\n",
      "Overview: This is another test movie\n",
      "\n",
      "Movie 3:\n",
      "Title: Movie with Missing Fields\n",
      "Release Date: 2024-09-27\n",
      "Rating: N/A\n",
      "Overview: No Overview Available\n",
      "\n",
      "Movie 4:\n",
      "Title: Unknown Title\n",
      "Release Date: Unknown Release Date\n",
      "Rating: N/A\n",
      "Overview: No Overview Available\n",
      "\n"
     ]
    }
   ],
   "source": [
    "from datacleaner import DataCleaner\n",
    "\n",
    "raw_movie_data = [\n",
    "    {\n",
    "        \"title\": \"Test Movie\",\n",
    "        \"release_date\": \"2024-09-25\",\n",
    "        \"vote_average\": 8.1,\n",
    "        \"overview\": \"This is a test movie\"\n",
    "    },\n",
    "    {\n",
    "        \"title\": \"Another Test Movie\",\n",
    "        \"release_date\": \"2024-09-26\",\n",
    "        \"vote_average\": 7.4,\n",
    "        \"overview\": \"This is another test movie\"\n",
    "    },\n",
    "    {\n",
    "        \"title\": \"Movie with Missing Fields\",\n",
    "        \"release_date\": \"2024-09-27\",\n",
    "        # vote_average and overview missing\n",
    "    },\n",
    "    {\n",
    "        # title, release_date, vote_average and overview missing\n",
    "    }\n",
    "]\n",
    "\n",
    "\n",
    "data_cleaner = DataCleaner()\n",
    "\n",
    "\n",
    "cleaned_movie_data = data_cleaner.clean_data(raw_movie_data)\n",
    "\n",
    "for index, movie in enumerate(cleaned_movie_data):\n",
    "    print(f\"Movie {index + 1}:\")\n",
    "    print(f\"Title: {movie.get(\"title\")}\")\n",
    "    print(f\"Release Date: {movie.get(\"release_date\")}\")\n",
    "    print(f\"Rating: {movie.get(\"rating\")}\")\n",
    "    print(f\"Overview: {movie.get(\"overview\")}\")\n",
    "    print()  "
   ]
  }
 ],
 "metadata": {
  "kernelspec": {
   "display_name": "Python 3",
   "language": "python",
   "name": "python3"
  },
  "language_info": {
   "codemirror_mode": {
    "name": "ipython",
    "version": 3
   },
   "file_extension": ".py",
   "mimetype": "text/x-python",
   "name": "python",
   "nbconvert_exporter": "python",
   "pygments_lexer": "ipython3",
   "version": "3.12.6"
  }
 },
 "nbformat": 4,
 "nbformat_minor": 2
}
