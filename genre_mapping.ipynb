{
 "cells": [
  {
   "cell_type": "code",
   "execution_count": 1,
   "metadata": {},
   "outputs": [],
   "source": [
    "import requests\n",
    "import os\n",
    "from dotenv import load_dotenv"
   ]
  },
  {
   "cell_type": "code",
   "execution_count": 2,
   "metadata": {},
   "outputs": [
    {
     "data": {
      "text/plain": [
       "True"
      ]
     },
     "execution_count": 2,
     "metadata": {},
     "output_type": "execute_result"
    }
   ],
   "source": [
    "load_dotenv()"
   ]
  },
  {
   "cell_type": "code",
   "execution_count": 3,
   "metadata": {},
   "outputs": [],
   "source": [
    "api_key = os.getenv(\"TMDB_API_KEY\")"
   ]
  },
  {
   "cell_type": "code",
   "execution_count": 4,
   "metadata": {},
   "outputs": [],
   "source": [
    "url = f\"https://api.themoviedb.org/3/genre/movie/list?api_key={api_key}&language=en-US\""
   ]
  },
  {
   "cell_type": "code",
   "execution_count": 5,
   "metadata": {},
   "outputs": [
    {
     "name": "stdout",
     "output_type": "stream",
     "text": [
      "ID: 28, Name: Action\n",
      "ID: 12, Name: Adventure\n",
      "ID: 16, Name: Animation\n",
      "ID: 35, Name: Comedy\n",
      "ID: 80, Name: Crime\n",
      "ID: 99, Name: Documentary\n",
      "ID: 18, Name: Drama\n",
      "ID: 10751, Name: Family\n",
      "ID: 14, Name: Fantasy\n",
      "ID: 36, Name: History\n",
      "ID: 27, Name: Horror\n",
      "ID: 10402, Name: Music\n",
      "ID: 9648, Name: Mystery\n",
      "ID: 10749, Name: Romance\n",
      "ID: 878, Name: Science Fiction\n",
      "ID: 10770, Name: TV Movie\n",
      "ID: 53, Name: Thriller\n",
      "ID: 10752, Name: War\n",
      "ID: 37, Name: Western\n"
     ]
    }
   ],
   "source": [
    "response = requests.get(url)\n",
    "\n",
    "if response.status_code == 200:\n",
    "    data = response.json()\n",
    "    genres = data[\"genres\"]\n",
    "    \n",
    "    for genre in genres:\n",
    "        print(f\"ID: {genre[\"id\"]}, Name: {genre[\"name\"]}\")\n",
    "else:\n",
    "    print(f\"Failed to retrieve genres: {response.status_code}\")"
   ]
  }
 ],
 "metadata": {
  "kernelspec": {
   "display_name": "Python 3",
   "language": "python",
   "name": "python3"
  },
  "language_info": {
   "codemirror_mode": {
    "name": "ipython",
    "version": 3
   },
   "file_extension": ".py",
   "mimetype": "text/x-python",
   "name": "python",
   "nbconvert_exporter": "python",
   "pygments_lexer": "ipython3",
   "version": "3.12.6"
  }
 },
 "nbformat": 4,
 "nbformat_minor": 2
}
